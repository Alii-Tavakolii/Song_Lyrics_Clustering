{
  "nbformat": 4,
  "nbformat_minor": 0,
  "metadata": {
    "colab": {
      "provenance": [],
      "authorship_tag": "ABX9TyOj6QLeJXe4g14yb+TVQuDU",
      "include_colab_link": true
    },
    "kernelspec": {
      "name": "python3",
      "display_name": "Python 3"
    },
    "language_info": {
      "name": "python"
    }
  },
  "cells": [
    {
      "cell_type": "markdown",
      "metadata": {
        "id": "view-in-github",
        "colab_type": "text"
      },
      "source": [
        "<a href=\"https://colab.research.google.com/github/Alii-Tavakolii/Song_Lyrics_Clustering/blob/main/lyrics_clustering_analysis.ipynb\" target=\"_parent\"><img src=\"https://colab.research.google.com/assets/colab-badge.svg\" alt=\"Open In Colab\"/></a>"
      ]
    },
    {
      "cell_type": "code",
      "source": [
        "!pip install pandas scikit-learn sentence-transformers matplotlib seaborn"
      ],
      "metadata": {
        "id": "EdIMAYw1gSUU"
      },
      "execution_count": null,
      "outputs": []
    },
    {
      "cell_type": "code",
      "source": [
        "import pandas as pd\n",
        "import numpy as np\n",
        "import matplotlib.pyplot as plt\n",
        "import seaborn as sns\n",
        "from sklearn.feature_extraction.text import TfidfVectorizer\n",
        "from sklearn.metrics.pairwise import cosine_similarity\n",
        "from sentence_transformers import SentenceTransformer"
      ],
      "metadata": {
        "id": "MUze83pehajj"
      },
      "execution_count": 2,
      "outputs": []
    },
    {
      "cell_type": "code",
      "execution_count": 4,
      "metadata": {
        "colab": {
          "base_uri": "https://localhost:8080/"
        },
        "id": "Uyvf7ZWRfb0N",
        "outputId": "f42bc741-986e-4b38-f6d6-5fbbc33ecc88"
      },
      "outputs": [
        {
          "output_type": "stream",
          "name": "stdout",
          "text": [
            "Dataset loaded successfully from Google Drive!\n",
            "                                               Lyric\n",
            "0  Cryptic psalms Amidst the howling winds A scor...\n",
            "1  Im sleeping tonight with all the wolves Were d...\n",
            "2  Wings of the darkest descent Fall from the rea...\n",
            "3  [Verse 1] Norrid Radd was my real name Had a j...\n",
            "4  Deep in the dungeons of doom and despair Sneak...\n",
            "<class 'pandas.core.frame.DataFrame'>\n",
            "RangeIndex: 2999 entries, 0 to 2998\n",
            "Data columns (total 1 columns):\n",
            " #   Column  Non-Null Count  Dtype \n",
            "---  ------  --------------  ----- \n",
            " 0   Lyric   2999 non-null   object\n",
            "dtypes: object(1)\n",
            "memory usage: 23.6+ KB\n",
            "None\n"
          ]
        }
      ],
      "source": [
        "from google.colab import drive\n",
        "drive.mount('/content/drive')\n",
        "df = pd.read_csv('/content/drive/MyDrive/musicLyrics.csv')\n",
        "print(\"Dataset loaded successfully from Google Drive!\")\n",
        "print(df.head())\n",
        "print(df.info())"
      ]
    },
    {
      "cell_type": "markdown",
      "source": [
        "### Reason for Text Preprocessing\n",
        "\n",
        "\n",
        "1.  Noise Reduction by deleting irrelevant characters and focuses on meaningful content.\n",
        "2.  Standardization by converting words to their common base form.\n",
        "3.  Reducing Dimensionality by removing stop words (\"the\", \"a\", \"am\" that carry little semantic value)\n",
        "4.  Presenting a cleaner, more consistent, and relevant representation of the text improves the models accuracy.\n"
      ],
      "metadata": {
        "id": "Sm55cwYrjBao"
      }
    },
    {
      "cell_type": "code",
      "source": [
        "import re\n",
        "import nltk\n",
        "from nltk.corpus import stopwords\n",
        "from nltk.stem import PorterStemmer, WordNetLemmatizer\n",
        "\n",
        "nltk.download('stopwords')\n",
        "nltk.download('wordnet')\n",
        "nltk.download('omw-1.4')\n",
        "\n",
        "stemmer = PorterStemmer()\n",
        "lemmatizer = WordNetLemmatizer()\n",
        "stop_words = set(stopwords.words('english'))\n",
        "\n",
        "def preprocess_text(text, method='lemmatization'):\n",
        "\n",
        "    text = text.lower()\n",
        "\n",
        "    text = re.sub(r'[^a-z\\s]', '', text) # Keep letters and spaces\n",
        "\n",
        "    text = re.sub(r'\\s+', ' ', text).strip() # Replace multiple spaces with one, then remove leading/trailing spaces\n",
        "    text = text.replace('\\\\n', ' ').replace('\\\\t', ' ') # Remove \\n and \\t\n",
        "\n",
        "    words = text.split()\n",
        "\n",
        "    words = [word for word in words if word not in stop_words]\n",
        "\n",
        "    if method == 'stemming':\n",
        "        words = [stemmer.stem(word) for word in words]\n",
        "    elif method == 'lemmatization':\n",
        "        words = [lemmatizer.lemmatize(word) for word in words]\n",
        "\n",
        "    return ' '.join(words)\n",
        "\n",
        "\n",
        "df['processed_lyrics_lem'] = df['Lyric'].apply(lambda x: preprocess_text(x, method='lemmatization'))\n",
        "df['processed_lyrics_stem'] = df['Lyric'].apply(lambda x: preprocess_text(x, method='stemming'))\n",
        "\n",
        "\n",
        "print(\"\\nProcessed lyrics examples (Lemmatization):\")\n",
        "print(df[['Lyric', 'processed_lyrics_lem']].head())\n",
        "\n",
        "print(\"\\nProcessed lyrics examples (Stemming):\")\n",
        "print(df[['Lyric', 'processed_lyrics_stem']].head())"
      ],
      "metadata": {
        "colab": {
          "base_uri": "https://localhost:8080/"
        },
        "id": "e0-ZLA2-mw-H",
        "outputId": "64e0102a-8628-4ccc-9871-291f2090009d"
      },
      "execution_count": 12,
      "outputs": [
        {
          "output_type": "stream",
          "name": "stderr",
          "text": [
            "[nltk_data] Downloading package stopwords to /root/nltk_data...\n",
            "[nltk_data]   Package stopwords is already up-to-date!\n",
            "[nltk_data] Downloading package wordnet to /root/nltk_data...\n",
            "[nltk_data]   Package wordnet is already up-to-date!\n",
            "[nltk_data] Downloading package omw-1.4 to /root/nltk_data...\n",
            "[nltk_data]   Package omw-1.4 is already up-to-date!\n"
          ]
        },
        {
          "output_type": "stream",
          "name": "stdout",
          "text": [
            "\n",
            "Processed lyrics examples (Lemmatization):\n",
            "                                               Lyric  \\\n",
            "0  Cryptic psalms Amidst the howling winds A scor...   \n",
            "1  Im sleeping tonight with all the wolves Were d...   \n",
            "2  Wings of the darkest descent Fall from the rea...   \n",
            "3  [Verse 1] Norrid Radd was my real name Had a j...   \n",
            "4  Deep in the dungeons of doom and despair Sneak...   \n",
            "\n",
            "                                processed_lyrics_lem  \n",
            "0  cryptic psalm amidst howling wind scorching so...  \n",
            "1  im sleeping tonight wolf dreaming life thats b...  \n",
            "2  wing darkest descent fall realm dark blackest ...  \n",
            "3  verse norrid radd real name job hated every da...  \n",
            "4  deep dungeon doom despair sneak place dark eke...  \n"
          ]
        }
      ]
    }
  ]
}